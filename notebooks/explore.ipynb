{
 "cells": [
  {
   "cell_type": "markdown",
   "metadata": {},
   "source": [
    "# Exploring AiiDA archives\n",
    "\n",
    "For more information see [the AiiDA documentation](https://aiida.readthedocs.io/projects/aiida-core/en/latest/howto/data.html).\n",
    "\n",
    "If you didn't create this session directly from an archive on Materials Cloud Archive, but would instead like to explore\n",
    "a custom archive, you should first make it available in your RenkuLab session, e.g., via download through `wget` in a\n",
    "terminal launcher.\n",
    "\n",
    "Then, you can run either:\n",
    "\n",
    "```shell\n",
    "❯ verdi profile setup core.sqlite_zip --filepath <your-archive>.aiida\n",
    "```\n",
    "\n",
    "to create a read-only AiiDA profile from the archive, or:\n",
    "\n",
    "```shell\n",
    "❯ verdi presto\n",
    "❯ verdi archive import <your-archive>.aiida\n",
    "```\n"
   ]
  },
  {
   "cell_type": "code",
   "execution_count": null,
   "metadata": {},
   "outputs": [],
   "source": [
    "from aiida import orm, load_profile\n",
    "\n",
    "load_profile()  # load default AiiDA profile"
   ]
  },
  {
   "cell_type": "code",
   "execution_count": null,
   "metadata": {},
   "outputs": [],
   "source": [
    "# Start querying the database using AiiDA's QueryBuilder\n",
    "qb = orm.QueryBuilder()\n",
    "qb.append(orm.Node)\n",
    "qb.count()"
   ]
  },
  {
   "cell_type": "code",
   "execution_count": null,
   "metadata": {},
   "outputs": [],
   "source": [
    "# alternatively, you can start dumping data to disk to explore it via the classical, non-AiiDA way, using e.g.:\n",
    "# !verdi profile dump --all\n",
    "# or \n",
    "# !verdi group dump <your-group>"
   ]
  }
 ],
 "metadata": {
  "kernelspec": {
   "display_name": "Python 3",
   "language": "python",
   "name": "python3"
  },
  "language_info": {
   "codemirror_mode": {
    "name": "ipython",
    "version": 3
   },
   "file_extension": ".py",
   "mimetype": "text/x-python",
   "name": "python",
   "nbconvert_exporter": "python",
   "pygments_lexer": "ipython3",
   "version": "3.6.7"
  }
 },
 "nbformat": 4,
 "nbformat_minor": 4
}
